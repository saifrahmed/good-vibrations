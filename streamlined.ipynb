{
 "cells": [
  {
   "cell_type": "code",
   "execution_count": 1,
   "id": "a037691e-ca03-4347-930f-d5ee6edf875d",
   "metadata": {},
   "outputs": [],
   "source": [
    "ride_data = \"2025-04-20_10_22_12_my_iOS_device_SAMPLE.csv\"\n",
    "ride_data = \"2025-04-20_10_22_12_my_iOS_device.csv\"\n",
    "\n",
    "outfile = \"map.html\""
   ]
  },
  {
   "cell_type": "code",
   "execution_count": 2,
   "id": "e8053b4e-d4bb-4174-9c2c-bc7ad71e0d27",
   "metadata": {},
   "outputs": [],
   "source": [
    "import pandas as pd\n",
    "import folium\n",
    "from folium.plugins import AntPath\n",
    "from sklearn.cluster import KMeans\n",
    "from sklearn.preprocessing import StandardScaler\n",
    "from scipy.signal import butter, filtfilt"
   ]
  },
  {
   "cell_type": "code",
   "execution_count": 3,
   "id": "bcc8bfed-5176-422d-b552-11715b7e14f5",
   "metadata": {},
   "outputs": [],
   "source": [
    "df = pd.read_csv(ride_data)"
   ]
  },
  {
   "cell_type": "code",
   "execution_count": 7,
   "id": "a885bb7e-1162-430d-be3b-a677f414a9e4",
   "metadata": {},
   "outputs": [
    {
     "name": "stderr",
     "output_type": "stream",
     "text": [
      "/var/folders/t0/4yhm4qgs2yz4b137fjy0bk_00000gn/T/ipykernel_18092/4268305063.py:19: FutureWarning: DataFrame.fillna with 'method' is deprecated and will raise in a future version. Use obj.ffill() or obj.bfill() instead.\n",
      "  sensor_data.fillna(method='ffill', inplace=True)\n"
     ]
    },
    {
     "name": "stdout",
     "output_type": "stream",
     "text": [
      "Map saved to map.html\n"
     ]
    }
   ],
   "source": [
    "\n",
    "\n",
    "# === High-pass filter ===\n",
    "def highpass_filter(data, cutoff=1.0, fs=50, order=3):\n",
    "    nyq = 0.5 * fs\n",
    "    norm_cutoff = cutoff / nyq\n",
    "    b, a = butter(order, norm_cutoff, btype='high', analog=False)\n",
    "    return filtfilt(b, a, data)\n",
    "\n",
    "# === Prepare sensor data ===\n",
    "sensor_data = df[[\n",
    "    'accelerometerAccelerationX(G)',\n",
    "    'accelerometerAccelerationY(G)',\n",
    "    'accelerometerAccelerationZ(G)',\n",
    "    'gyroRotationX(rad/s)',\n",
    "    'gyroRotationY(rad/s)',\n",
    "    'gyroRotationZ(rad/s)',\n",
    "    'locationSpeed(m/s)'\n",
    "]].copy()\n",
    "\n",
    "sensor_data.fillna(method='ffill', inplace=True)\n",
    "\n",
    "# High-pass filter accelerometer axes\n",
    "for axis in ['X', 'Y', 'Z']:\n",
    "    col = f'accelerometerAcceleration{axis}(G)'\n",
    "    sensor_data[f'hpf_{axis}'] = highpass_filter(sensor_data[col].fillna(0))\n",
    "\n",
    "# Compute vibration energy\n",
    "sensor_data['vibration_energy'] = (\n",
    "    sensor_data['hpf_X']**2 +\n",
    "    sensor_data['hpf_Y']**2 +\n",
    "    sensor_data['hpf_Z']**2\n",
    ")\n",
    "\n",
    "# === Feature engineering ===\n",
    "window_size = 20\n",
    "features = pd.DataFrame()\n",
    "features['vibration_energy_avg'] = sensor_data['vibration_energy'].rolling(window=window_size).mean()\n",
    "features['speed_avg'] = sensor_data['locationSpeed(m/s)'].rolling(window=window_size).mean()\n",
    "features['gyro_variability'] = sensor_data[[\n",
    "    'gyroRotationX(rad/s)', 'gyroRotationY(rad/s)', 'gyroRotationZ(rad/s)'\n",
    "]].rolling(window=window_size).std().sum(axis=1)\n",
    "\n",
    "# NEW: Normalize vibration by speed\n",
    "features['vibration_per_speed'] = features['vibration_energy_avg'] / (features['speed_avg'] + 0.1)\n",
    "\n",
    "features = features.dropna()\n",
    "\n",
    "# === Clustering ===\n",
    "scaler = StandardScaler()\n",
    "features_scaled = scaler.fit_transform(features)\n",
    "\n",
    "kmeans = KMeans(n_clusters=3, random_state=42)\n",
    "features['surface_type'] = kmeans.fit_predict(features_scaled)\n",
    "\n",
    "# === Assign labels based on speed-adjusted vibration ===\n",
    "results = df.iloc[window_size - 1:].copy()\n",
    "results['surface_type'] = features['surface_type'].values\n",
    "\n",
    "cluster_vibration = features.groupby('surface_type')['vibration_per_speed'].mean().sort_values()\n",
    "\n",
    "label_mapping = {\n",
    "    cluster_vibration.index[0]: 'Road',\n",
    "    cluster_vibration.index[1]: 'Gravel',\n",
    "    cluster_vibration.index[2]: 'Rock'\n",
    "}\n",
    "\n",
    "results['terrain_type'] = results['surface_type'].map(label_mapping)\n",
    "\n",
    "# === Create animated map with compressed segments ===\n",
    "center_lat = results['locationLatitude(WGS84)'].mean()\n",
    "center_lon = results['locationLongitude(WGS84)'].mean()\n",
    "\n",
    "m = folium.Map(location=[center_lat, center_lon], zoom_start=15)\n",
    "color_map = {'Road': 'green', 'Gravel': 'orange', 'Rock': 'red'}\n",
    "\n",
    "# Downsample for speed\n",
    "plot_results = results.iloc[::10].reset_index(drop=True)\n",
    "\n",
    "segment = []\n",
    "last_terrain = None\n",
    "\n",
    "for row in plot_results.itertuples():\n",
    "    terrain = row.terrain_type\n",
    "    latlon = [row._4, row._5]  # lat/lon\n",
    "\n",
    "    if terrain != last_terrain and segment:\n",
    "        AntPath(\n",
    "            locations=segment,\n",
    "            color=color_map.get(last_terrain, 'gray'),\n",
    "            weight=6,\n",
    "            opacity=0.8,\n",
    "            dash_array=[10, 20],\n",
    "            delay=500\n",
    "        ).add_to(m)\n",
    "        segment = []\n",
    "\n",
    "    segment.append(latlon)\n",
    "    last_terrain = terrain\n",
    "\n",
    "# Final segment\n",
    "if segment:\n",
    "    AntPath(\n",
    "        locations=segment,\n",
    "        color=color_map.get(last_terrain, 'gray'),\n",
    "        weight=6,\n",
    "        opacity=0.8,\n",
    "        dash_array=[10, 20],\n",
    "        delay=200\n",
    "    ).add_to(m)\n",
    "\n",
    "m.save(outfile)\n",
    "print(f\"Map saved to {outfile}\")\n"
   ]
  },
  {
   "cell_type": "code",
   "execution_count": null,
   "id": "fd9ec2f4-de28-4ff1-a151-e1771b1f64bf",
   "metadata": {},
   "outputs": [],
   "source": []
  }
 ],
 "metadata": {
  "kernelspec": {
   "display_name": "Python 3 (ipykernel)",
   "language": "python",
   "name": "python3"
  },
  "language_info": {
   "codemirror_mode": {
    "name": "ipython",
    "version": 3
   },
   "file_extension": ".py",
   "mimetype": "text/x-python",
   "name": "python",
   "nbconvert_exporter": "python",
   "pygments_lexer": "ipython3",
   "version": "3.12.9"
  }
 },
 "nbformat": 4,
 "nbformat_minor": 5
}
